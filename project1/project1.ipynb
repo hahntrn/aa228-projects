{
 "cells": [
  {
   "cell_type": "code",
   "execution_count": 11,
   "metadata": {},
   "outputs": [],
   "source": [
    "import networkx as nx\n",
    "import sys\n",
    "import pandas as pd\n",
    "import numpy as np\n",
    "from scipy.special import loggamma\n",
    "import matplotlib.pyplot as plt"
   ]
  },
  {
   "cell_type": "code",
   "execution_count": 21,
   "metadata": {},
   "outputs": [],
   "source": [
    "# take the maximum value that a variable can take on\n",
    "# problem: calculating r values for each variable (take max value of number of choices)\n",
    "\n",
    "def get_parents(G, node):\n",
    "    return [neighbor[0] for neighbor in G.in_edges(node)]\n",
    "\n",
    "def get_children(G, node):\n",
    "    return [neighbor[1] for neighbor in G.out_edges(node)]\n",
    "\n",
    "def get_q(G, variables):\n",
    "    return [np.prod([G.nodes[parent]['r'] for parent in get_parents(G, var)], dtype=int) for var in variables]\n",
    "\n",
    "def get_r(G, variables):\n",
    "    return [G.nodes[var]['r'] for var in variables]\n",
    "\n",
    "def get_j_index(qi, parents_r_values, observed_parents_values, parents):\n",
    "    one = np.array([1], dtype=int)\n",
    "    cump = np.cumprod(parents_r_values[:-1])\n",
    "    k = np.concatenate([one, cump])\n",
    "    observed_parents_values = np.array(observed_parents_values) - 1\n",
    "    return (np.dot(k, observed_parents_values)).astype(int)\n",
    "\n",
    "    observed_parents_values = np.array(observed_parents_values) - 1\n",
    "    parents_r_values = np.array(parents_r_values)\n",
    "    indices = np.arange(qi).reshape(parents_r_values)\n",
    "    # if len(parents_r_values) > 1:\n",
    "    #     print(indices.shape, observed_parents_values)\n",
    "    try:\n",
    "        ind = indices[observed_parents_values].flatten()\n",
    "        return ind\n",
    "    except:\n",
    "        print('ERROR:', parents, indices.shape, observed_parents_values)\n",
    "        exit()\n",
    "    # if len(parents_r_values) > 1:\n",
    "    #     print(ind)\n",
    "    return ind\n",
    "\n",
    "def statistics(variables, G, D):\n",
    "    n = D.shape[1]\n",
    "    q = get_q(G, variables) \n",
    "    M = [np.zeros((q[i], G.nodes[variables[i]]['r']), dtype=int) for i in range(n)]\n",
    "    # print(q, [m.shape for m in M])\n",
    "    for obs_i, obs in D.iterrows():\n",
    "        for i,var in enumerate(variables):\n",
    "            k = obs[var]-1 # use the observed value of variable as index into M (might not work for all datasets)\n",
    "            parents = get_parents(G, variables[i])\n",
    "            j = 0\n",
    "            if len(parents) > 0:\n",
    "                j = get_j_index(q[i],\n",
    "                    [G.nodes[parent]['r'] for parent in parents], \n",
    "                    [obs[parent] for parent in parents], parents)\n",
    "                # j = np.ravel_multi_index(\n",
    "                #     np.array([G.nodes[parent]['r'] for parent in parents]), \n",
    "                #     np.array([obs[parent] for parent in parents]))\n",
    "            M[i][j,k] += 1\n",
    "    return M\n",
    "\n",
    "def prior(variables, G):\n",
    "    n = len(variables)\n",
    "    r = get_r(G, variables)\n",
    "    q = get_q(G, variables) # [np.prod([G.nodes[parent]['r'] for parent in get_parents(G, variables[i])]) for i in range(n)]\n",
    "    return [np.ones((q[i], r[i])) for i in range(n)] # np.array([np.sum(G[:, i] == '1') for i in range(n)])\n",
    "\n",
    "def bayesian_score_component(M, alpha):\n",
    "    p =  np.sum(loggamma(M + alpha)) \n",
    "    p -= np.sum(loggamma(alpha)) \n",
    "    p += np.sum(loggamma(np.sum(alpha, axis=1)))\n",
    "    p -= np.sum(loggamma(np.sum(alpha, axis=1) + np.sum(M, axis=1)))\n",
    "    return p\n",
    "    # return alpha * np.log(n) - np.sum(np.log(np.arange(1, n + 1)))\n",
    "\n",
    "def bayesian_score(variables, G, D):\n",
    "    n = len(variables)\n",
    "    M = statistics(variables, G, D)\n",
    "    alpha = prior(variables, G)\n",
    "    return sum(bayesian_score_component(M[i], alpha[i]) for i in range(n))\n",
    "\n",
    "def fit(variables, data, filename):\n",
    "    G = nx.DiGraph()\n",
    "    for i, v in enumerate(variables):\n",
    "        G.add_node(v, r=max(data[v]), index=i)\n",
    "        # G.add_node(v, r=len(data[v].unique()), index=i)\n",
    "\n",
    "    sorted_variables = list(nx.topological_sort(G))\n",
    "    for k,i in enumerate(sorted_variables[1:]):\n",
    "        y = bayesian_score(variables, G, data)\n",
    "        for _ in range(20):\n",
    "            y_best, j_best = -np.inf, None\n",
    "            for j in sorted_variables[:k]:\n",
    "                if G.has_edge(j, i):\n",
    "                    continue\n",
    "                G.add_edge(j, i)\n",
    "                y_new = bayesian_score(variables, G, data)\n",
    "                if y_new > y_best:\n",
    "                    y_best, j_best = y_new, j\n",
    "                G.remove_edge(j, i)\n",
    "            if y_best > y:\n",
    "                print(f'best bayesian score: {y_best} (old: {y})')\n",
    "                G.add_edge(j_best, i)\n",
    "                y = y_best\n",
    "                write_gph(G, {v:v for v in (variables)}, f\"data/{filename}.gph\")\n",
    "            else:\n",
    "                break\n",
    "    return G\n",
    "\n",
    "def write_gph(dag, idx2names, filename):\n",
    "    with open(filename, 'w') as f:\n",
    "        for edge in dag.edges():\n",
    "            f.write(\"{}, {}\\n\".format(idx2names[edge[0]], idx2names[edge[1]]))"
   ]
  },
  {
   "cell_type": "code",
   "execution_count": 22,
   "metadata": {},
   "outputs": [
    {
     "ename": "ValueError",
     "evalue": "invalid entry in coordinates array",
     "output_type": "error",
     "traceback": [
      "\u001b[0;31m---------------------------------------------------------------------------\u001b[0m",
      "\u001b[0;31mValueError\u001b[0m                                Traceback (most recent call last)",
      "\u001b[1;32m/Users/hatran/Git/aa228-projects/project1/project1.ipynb Cell 3\u001b[0m in \u001b[0;36m<cell line: 17>\u001b[0;34m()\u001b[0m\n\u001b[1;32m      <a href='vscode-notebook-cell:/Users/hatran/Git/aa228-projects/project1/project1.ipynb#W2sZmlsZQ%3D%3D?line=8'>9</a>\u001b[0m     \u001b[39mprint\u001b[39m(\u001b[39m'\u001b[39m\u001b[39mDone training! Final bayesian score:\u001b[39m\u001b[39m'\u001b[39m, bayesian_score(variables, G, data))\n\u001b[1;32m     <a href='vscode-notebook-cell:/Users/hatran/Git/aa228-projects/project1/project1.ipynb#W2sZmlsZQ%3D%3D?line=9'>10</a>\u001b[0m     \u001b[39m# write_gph(G, {v:v for v in (variables)}, f\"data/{filename}.gph\")\u001b[39;00m\n\u001b[1;32m     <a href='vscode-notebook-cell:/Users/hatran/Git/aa228-projects/project1/project1.ipynb#W2sZmlsZQ%3D%3D?line=10'>11</a>\u001b[0m     \u001b[39m# write_gph(G, {v:v for v in (variables)}, f\"example/example_trained.gph\")\u001b[39;00m\n\u001b[1;32m     <a href='vscode-notebook-cell:/Users/hatran/Git/aa228-projects/project1/project1.ipynb#W2sZmlsZQ%3D%3D?line=11'>12</a>\u001b[0m     \u001b[39m# plot_gph(G, f\"data/{filename}.png\")\u001b[39;00m\n\u001b[1;32m     <a href='vscode-notebook-cell:/Users/hatran/Git/aa228-projects/project1/project1.ipynb#W2sZmlsZQ%3D%3D?line=12'>13</a>\u001b[0m \n\u001b[1;32m     <a href='vscode-notebook-cell:/Users/hatran/Git/aa228-projects/project1/project1.ipynb#W2sZmlsZQ%3D%3D?line=13'>14</a>\u001b[0m     \u001b[39m# nx.write_adjlist(G, \"example/example_trained.gph\", delimiter=\",\")\u001b[39;00m\n\u001b[1;32m     <a href='vscode-notebook-cell:/Users/hatran/Git/aa228-projects/project1/project1.ipynb#W2sZmlsZQ%3D%3D?line=14'>15</a>\u001b[0m     \u001b[39m# print(f'k={k}, y={y}, i={i}, parents={get_parents(G, i)}')\u001b[39;00m\n\u001b[0;32m---> <a href='vscode-notebook-cell:/Users/hatran/Git/aa228-projects/project1/project1.ipynb#W2sZmlsZQ%3D%3D?line=16'>17</a>\u001b[0m main()\n",
      "\u001b[1;32m/Users/hatran/Git/aa228-projects/project1/project1.ipynb Cell 3\u001b[0m in \u001b[0;36mmain\u001b[0;34m()\u001b[0m\n\u001b[1;32m      <a href='vscode-notebook-cell:/Users/hatran/Git/aa228-projects/project1/project1.ipynb#W2sZmlsZQ%3D%3D?line=5'>6</a>\u001b[0m \u001b[39m# data = pd.read_csv(f\"example/example.csv\")\u001b[39;00m\n\u001b[1;32m      <a href='vscode-notebook-cell:/Users/hatran/Git/aa228-projects/project1/project1.ipynb#W2sZmlsZQ%3D%3D?line=6'>7</a>\u001b[0m variables \u001b[39m=\u001b[39m \u001b[39mlist\u001b[39m(data\u001b[39m.\u001b[39mcolumns)\n\u001b[0;32m----> <a href='vscode-notebook-cell:/Users/hatran/Git/aa228-projects/project1/project1.ipynb#W2sZmlsZQ%3D%3D?line=7'>8</a>\u001b[0m G \u001b[39m=\u001b[39m fit(variables, data, filename)\n\u001b[1;32m      <a href='vscode-notebook-cell:/Users/hatran/Git/aa228-projects/project1/project1.ipynb#W2sZmlsZQ%3D%3D?line=8'>9</a>\u001b[0m \u001b[39mprint\u001b[39m(\u001b[39m'\u001b[39m\u001b[39mDone training! Final bayesian score:\u001b[39m\u001b[39m'\u001b[39m, bayesian_score(variables, G, data))\n",
      "\u001b[1;32m/Users/hatran/Git/aa228-projects/project1/project1.ipynb Cell 3\u001b[0m in \u001b[0;36mfit\u001b[0;34m(variables, data, filename)\u001b[0m\n\u001b[1;32m     <a href='vscode-notebook-cell:/Users/hatran/Git/aa228-projects/project1/project1.ipynb#W2sZmlsZQ%3D%3D?line=90'>91</a>\u001b[0m     \u001b[39mcontinue\u001b[39;00m\n\u001b[1;32m     <a href='vscode-notebook-cell:/Users/hatran/Git/aa228-projects/project1/project1.ipynb#W2sZmlsZQ%3D%3D?line=91'>92</a>\u001b[0m G\u001b[39m.\u001b[39madd_edge(j, i)\n\u001b[0;32m---> <a href='vscode-notebook-cell:/Users/hatran/Git/aa228-projects/project1/project1.ipynb#W2sZmlsZQ%3D%3D?line=92'>93</a>\u001b[0m y_new \u001b[39m=\u001b[39m bayesian_score(variables, G, data)\n\u001b[1;32m     <a href='vscode-notebook-cell:/Users/hatran/Git/aa228-projects/project1/project1.ipynb#W2sZmlsZQ%3D%3D?line=93'>94</a>\u001b[0m \u001b[39mif\u001b[39;00m y_new \u001b[39m>\u001b[39m y_best:\n\u001b[1;32m     <a href='vscode-notebook-cell:/Users/hatran/Git/aa228-projects/project1/project1.ipynb#W2sZmlsZQ%3D%3D?line=94'>95</a>\u001b[0m     y_best, j_best \u001b[39m=\u001b[39m y_new, j\n",
      "\u001b[1;32m/Users/hatran/Git/aa228-projects/project1/project1.ipynb Cell 3\u001b[0m in \u001b[0;36mbayesian_score\u001b[0;34m(variables, G, D)\u001b[0m\n\u001b[1;32m     <a href='vscode-notebook-cell:/Users/hatran/Git/aa228-projects/project1/project1.ipynb#W2sZmlsZQ%3D%3D?line=71'>72</a>\u001b[0m \u001b[39mdef\u001b[39;00m \u001b[39mbayesian_score\u001b[39m(variables, G, D):\n\u001b[1;32m     <a href='vscode-notebook-cell:/Users/hatran/Git/aa228-projects/project1/project1.ipynb#W2sZmlsZQ%3D%3D?line=72'>73</a>\u001b[0m     n \u001b[39m=\u001b[39m \u001b[39mlen\u001b[39m(variables)\n\u001b[0;32m---> <a href='vscode-notebook-cell:/Users/hatran/Git/aa228-projects/project1/project1.ipynb#W2sZmlsZQ%3D%3D?line=73'>74</a>\u001b[0m     M \u001b[39m=\u001b[39m statistics(variables, G, D)\n\u001b[1;32m     <a href='vscode-notebook-cell:/Users/hatran/Git/aa228-projects/project1/project1.ipynb#W2sZmlsZQ%3D%3D?line=74'>75</a>\u001b[0m     alpha \u001b[39m=\u001b[39m prior(variables, G)\n\u001b[1;32m     <a href='vscode-notebook-cell:/Users/hatran/Git/aa228-projects/project1/project1.ipynb#W2sZmlsZQ%3D%3D?line=75'>76</a>\u001b[0m     \u001b[39mreturn\u001b[39;00m \u001b[39msum\u001b[39m(bayesian_score_component(M[i], alpha[i]) \u001b[39mfor\u001b[39;00m i \u001b[39min\u001b[39;00m \u001b[39mrange\u001b[39m(n))\n",
      "\u001b[1;32m/Users/hatran/Git/aa228-projects/project1/project1.ipynb Cell 3\u001b[0m in \u001b[0;36mstatistics\u001b[0;34m(variables, G, D)\u001b[0m\n\u001b[1;32m     <a href='vscode-notebook-cell:/Users/hatran/Git/aa228-projects/project1/project1.ipynb#W2sZmlsZQ%3D%3D?line=46'>47</a>\u001b[0m         j \u001b[39m=\u001b[39m \u001b[39m0\u001b[39m\n\u001b[1;32m     <a href='vscode-notebook-cell:/Users/hatran/Git/aa228-projects/project1/project1.ipynb#W2sZmlsZQ%3D%3D?line=47'>48</a>\u001b[0m         \u001b[39mif\u001b[39;00m \u001b[39mlen\u001b[39m(parents) \u001b[39m>\u001b[39m \u001b[39m0\u001b[39m:\n\u001b[1;32m     <a href='vscode-notebook-cell:/Users/hatran/Git/aa228-projects/project1/project1.ipynb#W2sZmlsZQ%3D%3D?line=48'>49</a>\u001b[0m             \u001b[39m# j = get_j_index(q[i],\u001b[39;00m\n\u001b[1;32m     <a href='vscode-notebook-cell:/Users/hatran/Git/aa228-projects/project1/project1.ipynb#W2sZmlsZQ%3D%3D?line=49'>50</a>\u001b[0m             \u001b[39m#     [G.nodes[parent]['r'] for parent in parents], \u001b[39;00m\n\u001b[1;32m     <a href='vscode-notebook-cell:/Users/hatran/Git/aa228-projects/project1/project1.ipynb#W2sZmlsZQ%3D%3D?line=50'>51</a>\u001b[0m             \u001b[39m#     [obs[parent] for parent in parents], parents)\u001b[39;00m\n\u001b[0;32m---> <a href='vscode-notebook-cell:/Users/hatran/Git/aa228-projects/project1/project1.ipynb#W2sZmlsZQ%3D%3D?line=51'>52</a>\u001b[0m             j \u001b[39m=\u001b[39m np\u001b[39m.\u001b[39;49mravel_multi_index(\n\u001b[1;32m     <a href='vscode-notebook-cell:/Users/hatran/Git/aa228-projects/project1/project1.ipynb#W2sZmlsZQ%3D%3D?line=52'>53</a>\u001b[0m                 np\u001b[39m.\u001b[39;49marray([G\u001b[39m.\u001b[39;49mnodes[parent][\u001b[39m'\u001b[39;49m\u001b[39mr\u001b[39;49m\u001b[39m'\u001b[39;49m] \u001b[39mfor\u001b[39;49;00m parent \u001b[39min\u001b[39;49;00m parents]), \n\u001b[1;32m     <a href='vscode-notebook-cell:/Users/hatran/Git/aa228-projects/project1/project1.ipynb#W2sZmlsZQ%3D%3D?line=53'>54</a>\u001b[0m                 np\u001b[39m.\u001b[39;49marray([obs[parent] \u001b[39mfor\u001b[39;49;00m parent \u001b[39min\u001b[39;49;00m parents]))\n\u001b[1;32m     <a href='vscode-notebook-cell:/Users/hatran/Git/aa228-projects/project1/project1.ipynb#W2sZmlsZQ%3D%3D?line=54'>55</a>\u001b[0m         M[i][j,k] \u001b[39m+\u001b[39m\u001b[39m=\u001b[39m \u001b[39m1\u001b[39m\n\u001b[1;32m     <a href='vscode-notebook-cell:/Users/hatran/Git/aa228-projects/project1/project1.ipynb#W2sZmlsZQ%3D%3D?line=55'>56</a>\u001b[0m \u001b[39mreturn\u001b[39;00m M\n",
      "File \u001b[0;32m<__array_function__ internals>:180\u001b[0m, in \u001b[0;36mravel_multi_index\u001b[0;34m(*args, **kwargs)\u001b[0m\n",
      "\u001b[0;31mValueError\u001b[0m: invalid entry in coordinates array"
     ]
    }
   ],
   "source": [
    "\n",
    "def main():\n",
    "    # filenames = ['small', 'medium', 'large']\n",
    "    # for filename in filenames:\n",
    "    filename = 'small'\n",
    "    data = pd.read_csv(f\"data/{filename}.csv\")\n",
    "    # data = pd.read_csv(f\"example/example.csv\")\n",
    "    variables = list(data.columns)\n",
    "    G = fit(variables, data, filename)\n",
    "    print('Done training! Final bayesian score:', bayesian_score(variables, G, data))\n",
    "    # write_gph(G, {v:v for v in (variables)}, f\"data/{filename}.gph\")\n",
    "    # write_gph(G, {v:v for v in (variables)}, f\"example/example_trained.gph\")\n",
    "    # plot_gph(G, f\"data/{filename}.png\")\n",
    "\n",
    "    # nx.write_adjlist(G, \"example/example_trained.gph\", delimiter=\",\")\n",
    "    # print(f'k={k}, y={y}, i={i}, parents={get_parents(G, i)}')\n",
    "\n",
    "main()\n",
    "# example for checking bayesian score function\n",
    "# data = pd.read_csv(\"example/example.csv\")\n",
    "# variables = list(data.columns)\n",
    "# edgelist = np.genfromtxt(\"example/example.gph\", delimiter=\",\", dtype=str)\n",
    "# G = nx.DiGraph()\n",
    "# G.add_edges_from(edgelist)\n",
    "# bayesian_score(variables, G, data)\n",
    "\n",
    "# G = nx.from_edgelist(edgelist, create_using=nx.DiGraph())\n",
    "# variables_lookup = {node: i for i, node in enumerate(G.nodes)}\n",
    "# G['parent1']['r'] = 3 # doesn't work bc it''s a directed graph?\n"
   ]
  },
  {
   "cell_type": "markdown",
   "metadata": {},
   "source": []
  },
  {
   "cell_type": "code",
   "execution_count": null,
   "metadata": {},
   "outputs": [],
   "source": []
  },
  {
   "cell_type": "code",
   "execution_count": null,
   "metadata": {},
   "outputs": [
    {
     "data": {
      "text/plain": [
       "array([0, 1, 2])"
      ]
     },
     "execution_count": 72,
     "metadata": {},
     "output_type": "execute_result"
    }
   ],
   "source": [
    "np.array([1,2,3]) - 1"
   ]
  },
  {
   "cell_type": "code",
   "execution_count": null,
   "metadata": {},
   "outputs": [],
   "source": [
    "from networkx.drawing.nx_pydot import graphviz_layout\n",
    "\n",
    "options = {\n",
    "            \"font_size\": 10,\n",
    "            \"node_size\": 1000,\n",
    "            \"node_color\": \"white\",\n",
    "            \"edgecolors\": \"gray\",\n",
    "            \"linewidths\": 5,\n",
    "            \"width\": 5,\n",
    "}\n",
    "plt.figure()\n",
    "# pos = nx.shell_layout(G) # use this if graphviz_layout doesn't work\n",
    "pos = graphviz_layout(G, prog='dot')\n",
    "nx.draw_networkx(G, pos=pos, arrows=True, arrowstyle='->', **options)"
   ]
  },
  {
   "cell_type": "code",
   "execution_count": null,
   "metadata": {},
   "outputs": [
    {
     "data": {
      "text/plain": [
       "array([[0., 0., 1., 0.],\n",
       "       [0., 0., 1., 0.],\n",
       "       [0., 0., 0., 0.]])"
      ]
     },
     "execution_count": 16,
     "metadata": {},
     "output_type": "execute_result"
    }
   ],
   "source": [
    "m = np.zeros((3,4))\n",
    "m[np.array([0,1]),np.array([2,2])] = 1\n",
    "m"
   ]
  },
  {
   "cell_type": "code",
   "execution_count": null,
   "metadata": {},
   "outputs": [],
   "source": []
  }
 ],
 "metadata": {
  "kernelspec": {
   "display_name": "Python 3 (ipykernel)",
   "language": "python",
   "name": "python3"
  },
  "language_info": {
   "codemirror_mode": {
    "name": "ipython",
    "version": 3
   },
   "file_extension": ".py",
   "mimetype": "text/x-python",
   "name": "python",
   "nbconvert_exporter": "python",
   "pygments_lexer": "ipython3",
   "version": "3.8.11"
  },
  "orig_nbformat": 4,
  "vscode": {
   "interpreter": {
    "hash": "87a02f55084969d82743a2c90d54a08761f8a6d63c430db74c713ccba330ebec"
   }
  }
 },
 "nbformat": 4,
 "nbformat_minor": 2
}
