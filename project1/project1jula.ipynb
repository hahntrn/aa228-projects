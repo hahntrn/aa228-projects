{
 "cells": [
  {
   "cell_type": "code",
   "execution_count": 1,
   "metadata": {},
   "outputs": [],
   "source": [
    "using Graphs\n",
    "using Printf\n",
    "using CSV\n",
    "using DataFrames"
   ]
  },
  {
   "cell_type": "code",
   "execution_count": 17,
   "metadata": {},
   "outputs": [
    {
     "data": {
      "text/plain": [
       "fit (generic function with 1 method)"
      ]
     },
     "execution_count": 17,
     "metadata": {},
     "output_type": "execute_result"
    }
   ],
   "source": [
    "\"\"\"\n",
    "    write_gph(dag::DiGraph, idx2names, filename)\n",
    "\n",
    "Takes a DiGraph, a Dict of index to names and a output filename to write the graph in `gph` format.\n",
    "\"\"\"\n",
    "function write_gph(dag::DiGraph, idx2names, filename)\n",
    "    open(filename, \"w\") do io\n",
    "        for edge in edges(dag)\n",
    "            @printf(io, \"%s,%s\\n\", idx2names[src(edge)], idx2names[dst(edge)])\n",
    "        end\n",
    "    end\n",
    "end\n",
    "\n",
    "\n",
    "function compute(infile, outfile)\n",
    "    df = CSV.read(\"example.csv\", DataFrame)\n",
    "\n",
    "    # WRITE YOUR CODE HERE\n",
    "    # FEEL FREE TO CHANGE ANYTHING ANYWHERE IN THE CODE\n",
    "    # THIS INCLUDES CHANGING THE FUNCTION NAMES, MAKING THE CODE MODULAR, BASICALLY ANYTHING\n",
    "\n",
    "end\n",
    "\n",
    "#################### parameter-learning 1\n",
    "function sub2ind(siz, x)\n",
    "    k = vcat(1, cumprod(siz[1:end-1]))\n",
    "    return dot(k, x .- 1) + 1\n",
    "end\n",
    "\n",
    "function statistics(vars, G, D::Matrix{Int})\n",
    "    n = size(D, 1)\n",
    "    r = [vars[i].r for i in 1:n]\n",
    "    q = [prod([r[j] for j in inneighbors(G,i)]) for i in 1:n]\n",
    "    M = [zeros(q[i], r[i]) for i in 1:n]\n",
    "    for o in eachcol(D)\n",
    "        for i in 1:n\n",
    "            k = o[i]\n",
    "            parents = inneighbors(G,i)\n",
    "            j = 1\n",
    "            if !isempty(parents)\n",
    "                 j = sub2ind(r[parents], o[parents])\n",
    "            end\n",
    "            M[i][j,k] += 1.0\n",
    "        end\n",
    "    end\n",
    "    return M\n",
    "end\n",
    "####################\n",
    "\n",
    "#################### parameter-learning 2\n",
    "function prior(vars, G)\n",
    "    n = length(vars)\n",
    "    r = [vars[i].r for i in 1:n]\n",
    "    q = [prod([r[j] for j in inneighbors(G,i)]) for i in 1:n]\n",
    "    return [ones(q[i], r[i]) for i in 1:n]\n",
    "end\n",
    "####################\n",
    "\n",
    "#################### structure-learning 1\n",
    "function bayesian_score_component(M, α)\n",
    "    p =  sum(loggamma.(α + M))\n",
    "    p -= sum(loggamma.(α))\n",
    "    p += sum(loggamma.(sum(α,dims=2)))\n",
    "    p -= sum(loggamma.(sum(α,dims=2) + sum(M,dims=2)))\n",
    "    return p\n",
    "end\n",
    "\n",
    "function bayesian_score(vars, G, D)\n",
    "    n = length(vars)\n",
    "    M = statistics(vars, G, D)\n",
    "    α = prior(vars, G)\n",
    "    return sum(bayesian_score_component(M[i], α[i]) for i in 1:n)\n",
    "end\n",
    "####################\n",
    "\n",
    "#################### structure-learning 2\n",
    "struct K2Search\n",
    "    ordering::Vector{Int} # variable ordering\n",
    "end\n",
    "\n",
    "function fit(method::K2Search, vars, D)\n",
    "    G = SimpleDiGraph(length(vars))\n",
    "    for (k,i) in enumerate(method.ordering[2:end])\n",
    "        y = bayesian_score(vars, G, D)\n",
    "        while true\n",
    "            y_best, j_best = -Inf, 0\n",
    "            for j in method.ordering[1:k]\n",
    "                if !has_edge(G, j, i)\n",
    "                    add_edge!(G, j, i)\n",
    "                    y′ = bayesian_score(vars, G, D)\n",
    "                    if y′ > y_best\n",
    "                        y_best, j_best = y′, j\n",
    "                    end\n",
    "                    rem_edge!(G, j, i)\n",
    "                end\n",
    "            end\n",
    "            if y_best > y\n",
    "                y = y_best\n",
    "                add_edge!(G, j_best, i)\n",
    "            else\n",
    "                break\n",
    "            end\n",
    "        end\n",
    "    end\n",
    "    return G\n",
    "end\n",
    "####################"
   ]
  },
  {
   "cell_type": "code",
   "execution_count": 10,
   "metadata": {},
   "outputs": [
    {
     "data": {
      "text/plain": [
       "6×20 transpose(::Matrix{Int64}) with eltype Int64:\n",
       " 3  1  3  1  2  1  1  3  1  3  2  2  2  2  1  2  1  3  3  1\n",
       " 3  3  1  3  3  3  3  3  3  1  3  3  2  3  1  2  2  1  1  3\n",
       " 2  2  1  1  3  1  3  2  1  1  3  2  3  3  2  1  1  1  1  1\n",
       " 3  3  2  2  2  1  1  3  3  3  3  3  1  3  3  3  3  3  3  2\n",
       " 1  2  3  3  2  1  2  1  2  3  2  3  1  2  3  2  2  1  3  3\n",
       " 3  3  1  2  1  3  3  3  1  3  3  3  3  3  2  3  3  2  3  1"
      ]
     },
     "execution_count": 10,
     "metadata": {},
     "output_type": "execute_result"
    }
   ],
   "source": [
    "df = CSV.read(\"example/example.csv\", DataFrame)\n",
    "data = transpose(Matrix(df))"
   ]
  },
  {
   "cell_type": "code",
   "execution_count": 14,
   "metadata": {},
   "outputs": [
    {
     "data": {
      "text/plain": [
       "6-element Vector{String}:\n",
       " \"parent1\"\n",
       " \"child1\"\n",
       " \"parent2\"\n",
       " \"child2\"\n",
       " \"parent3\"\n",
       " \"child3\""
      ]
     },
     "execution_count": 14,
     "metadata": {},
     "output_type": "execute_result"
    }
   ],
   "source": [
    "names(df)"
   ]
  },
  {
   "cell_type": "code",
   "execution_count": 16,
   "metadata": {},
   "outputs": [
    {
     "ename": "LoadError",
     "evalue": "UndefVarError: Variable not defined",
     "output_type": "error",
     "traceback": [
      "UndefVarError: Variable not defined",
      "",
      "Stacktrace:",
      " [1] (::var\"#23#24\")(i::Int64)",
      "   @ Main ./none:0",
      " [2] iterate",
      "   @ ./generator.jl:47 [inlined]",
      " [3] collect(itr::Base.Generator{UnitRange{Int64}, var\"#23#24\"})",
      "   @ Base ./array.jl:787",
      " [4] top-level scope",
      "   @ In[16]:1"
     ]
    }
   ],
   "source": [
    "fit(K2Search(1:4), [Variable(2) for i in 1:4], data)"
   ]
  },
  {
   "cell_type": "code",
   "execution_count": 23,
   "metadata": {},
   "outputs": [
    {
     "ename": "LoadError",
     "evalue": "BoundsError: attempt to access 2-element Vector{SubString{String}} at index [3]",
     "output_type": "error",
     "traceback": [
      "BoundsError: attempt to access 2-element Vector{SubString{String}} at index [3]",
      "",
      "Stacktrace:",
      "  [1] getindex",
      "    @ ./array.jl:924 [inlined]",
      "  [2] indexed_iterate",
      "    @ ./tuple.jl:89 [inlined]",
      "  [3] _parse_header(s::SubString{String})",
      "    @ Graphs ~/.julia/packages/Graphs/Me2H1/src/persistence/lg.jl:62",
      "  [4] loadlg(io::IOStream, gname::String)",
      "    @ Graphs ~/.julia/packages/Graphs/Me2H1/src/persistence/lg.jl:104",
      "  [5] loadgraph",
      "    @ ~/.julia/packages/Graphs/Me2H1/src/persistence/lg.jl:147 [inlined]",
      "  [6] #120",
      "    @ ~/.julia/packages/Graphs/Me2H1/src/persistence/common.jl:15 [inlined]",
      "  [7] open(::Graphs.var\"#120#121\"{String, LGFormat}, ::String, ::Vararg{String}; kwargs::Base.Pairs{Symbol, Union{}, Tuple{}, NamedTuple{(), Tuple{}}})",
      "    @ Base ./io.jl:384",
      "  [8] open",
      "    @ ./io.jl:381 [inlined]",
      "  [9] loadgraph",
      "    @ ~/.julia/packages/Graphs/Me2H1/src/persistence/common.jl:14 [inlined]",
      " [10] loadgraph(fn::String)",
      "    @ Graphs ~/.julia/packages/Graphs/Me2H1/src/persistence/common.jl:18",
      " [11] top-level scope",
      "    @ In[23]:1"
     ]
    }
   ],
   "source": [
    "graph = Graphs.loadgraph(\"example/example.gph\")"
   ]
  },
  {
   "cell_type": "code",
   "execution_count": 20,
   "metadata": {},
   "outputs": [
    {
     "ename": "LoadError",
     "evalue": "syntax: character literal contains multiple characters",
     "output_type": "error",
     "traceback": [
      "syntax: character literal contains multiple characters",
      "",
      "Stacktrace:",
      " [1] top-level scope",
      "   @ In[20]:1"
     ]
    }
   ],
   "source": [
    "\n",
    "bayesian_score()"
   ]
  },
  {
   "cell_type": "code",
   "execution_count": null,
   "metadata": {},
   "outputs": [],
   "source": []
  }
 ],
 "metadata": {
  "kernelspec": {
   "display_name": "Julia 1.8.5",
   "language": "julia",
   "name": "julia-1.8"
  },
  "language_info": {
   "file_extension": ".jl",
   "mimetype": "application/julia",
   "name": "julia",
   "version": "1.8.5"
  },
  "orig_nbformat": 4,
  "vscode": {
   "interpreter": {
    "hash": "7e1998ff7f8aa20ada591c520b972326324e5ea05489af9e422744c7c09f6dad"
   }
  }
 },
 "nbformat": 4,
 "nbformat_minor": 2
}
